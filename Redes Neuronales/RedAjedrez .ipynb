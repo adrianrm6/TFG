{
 "cells": [
  {
   "cell_type": "code",
   "execution_count": null,
   "id": "93e1818e",
   "metadata": {
    "executionInfo": {
     "elapsed": 4258,
     "status": "ok",
     "timestamp": 1667824424189,
     "user": {
      "displayName": "ADRIAN RODRIGUEZ MONTERO",
      "userId": "04477714195734396533"
     },
     "user_tz": -60
    },
    "id": "93e1818e"
   },
   "outputs": [],
   "source": [
    "import numpy as np\n",
    "import scipy as sc\n",
    "import matplotlib.pyplot as plt\n",
    "import pandas as pd\n",
    "\n",
    "from collections import Counter\n",
    "import tensorflow.keras\n",
    "from tensorflow.keras.utils import to_categorical\n",
    "from tensorflow.keras.models import Sequential, save_model, load_model\n",
    "from tensorflow.keras.layers import Dense, Dropout, Conv2D, MaxPooling2D, Flatten, BatchNormalization\n",
    "from tensorflow.keras.callbacks import EarlyStopping\n",
    "from tensorflow.keras.wrappers.scikit_learn import KerasClassifier\n",
    "from sklearn import metrics\n",
    "from sklearn.metrics import confusion_matrix, classification_report, f1_score, accuracy_score"
   ]
  },
  {
   "cell_type": "code",
   "execution_count": null,
   "id": "7BwTdWevEqZK",
   "metadata": {
    "colab": {
     "base_uri": "https://localhost:8080/"
    },
    "executionInfo": {
     "elapsed": 25105,
     "status": "ok",
     "timestamp": 1667824546980,
     "user": {
      "displayName": "ADRIAN RODRIGUEZ MONTERO",
      "userId": "04477714195734396533"
     },
     "user_tz": -60
    },
    "id": "7BwTdWevEqZK",
    "outputId": "2ccc5433-7b9e-4737-d361-9d37e7d1aa37"
   },
   "outputs": [],
   "source": [
    "from google.colab import drive\n",
    "drive.mount('/content/drive')"
   ]
  },
  {
   "cell_type": "markdown",
   "id": "4de0961d",
   "metadata": {
    "id": "4de0961d"
   },
   "source": [
    "# Características a entrenar"
   ]
  },
  {
   "cell_type": "code",
   "execution_count": null,
   "id": "decfafdb",
   "metadata": {
    "executionInfo": {
     "elapsed": 7,
     "status": "ok",
     "timestamp": 1667824590916,
     "user": {
      "displayName": "ADRIAN RODRIGUEZ MONTERO",
      "userId": "04477714195734396533"
     },
     "user_tz": -60
    },
    "id": "decfafdb"
   },
   "outputs": [],
   "source": [
    "#########################################################################\n",
    "################### ETIQUETAS PARA ENTRENAR LAS REDES ###################\n",
    "#########################################################################\n",
    "Etiquetas = {\n",
    "    \"VentajaEspacio\" : 0,\n",
    "    \"ColumnasAbiertas\" : 1 ,\n",
    "    \"AlfilesMismoColor\" : 3,\n",
    "    \"AlfilesDistColor\" : 4,\n",
    "    \"ColumnasSemiabiertasB\" : 7,\n",
    "    \"PeonesB\" : 9,\n",
    "    \"CaballosB\" : 10,\n",
    "    \"AlfilesB\" : 11,\n",
    "    \"TorresB\" : 12,\n",
    "    \"DamasB\" : 13,\n",
    "    \"TorreSeptimaB\" : 14,\n",
    "    \"TorresDobladasB\" : 15,\n",
    "    \"TorresLigadasB\" : 16,\n",
    "    \"PistolaAlekhineB\" : 17,\n",
    "    \"PeonesDobladosB\" : 18,\n",
    "    \"PeonesAisladosB\" : 20,\n",
    "    \"PeonesRetrasadosB\" : 22,\n",
    "    \"PeonesPasadosB\" : 24,\n",
    "    \"IslasPeonesB\" : 26,\n",
    "    \"FalangesPeonesB\" : 28,\n",
    "    \"PeonesConectadosB\" : 30,\n",
    "    \"ColumnasSemiabiertasN\" : 34,\n",
    "    \"PeonesN\" : 36,\n",
    "    \"CaballosN\" : 37,\n",
    "    \"AlfilesN\" : 38,\n",
    "    \"TorresN\" : 39,\n",
    "    \"DamasN\" : 40,\n",
    "    \"TorreSeptimaN\" : 41,\n",
    "    \"TorresDobladasN\" : 42,\n",
    "    \"TorresLigadasN\" : 43,\n",
    "    \"PistolaAlekhineN\" : 44,\n",
    "    \"PeonesDobladosN\" : 45,\n",
    "    \"PeonesAisladosN\" : 47,\n",
    "    \"PeonesRetrasadosN\" : 49,\n",
    "    \"PeonesPasadosN\" : 51,\n",
    "    \"IslasPeonesN\" : 53,\n",
    "    \"FalangesPeonesN\" : 55,\n",
    "    \"PeonesConectadosN\" : 57\n",
    "}"
   ]
  },
  {
   "cell_type": "markdown",
   "id": "f619f5ae",
   "metadata": {
    "id": "f619f5ae"
   },
   "source": [
    "# Funciones Auxiliares"
   ]
  },
  {
   "cell_type": "code",
   "execution_count": null,
   "id": "22be7689",
   "metadata": {
    "executionInfo": {
     "elapsed": 8,
     "status": "ok",
     "timestamp": 1667824591614,
     "user": {
      "displayName": "ADRIAN RODRIGUEZ MONTERO",
      "userId": "04477714195734396533"
     },
     "user_tz": -60
    },
    "id": "22be7689"
   },
   "outputs": [],
   "source": [
    "#########################################################################\n",
    "# FUNCIONES PARA CONVERTIR LOS DATASETS A MATRIZ O A ARRAY DE FLOTANTES # \n",
    "#########################################################################\n",
    "\n",
    "def primera_representacion(data):\n",
    "    \"\"\"\n",
    "    Convertimos el dataset con la primera codificación\n",
    "    a una matriz tridimensional de floats, 7 tableros de 8x8.\n",
    "    \"\"\"\n",
    "    matriz = []\n",
    "    aux = np.zeros([8,8,7])\n",
    "    \n",
    "    for i in range(len(data)):\n",
    "        for j in range(7):\n",
    "            t = data[i][j].split(',')\n",
    "            u = [float(x) for x in t]\n",
    "            for k in range(8):\n",
    "                for l in range(8):\n",
    "                    aux[k][l][j] = u[(8*k+l)]\n",
    "     \n",
    "        matriz.append(aux.copy())\n",
    "    return matriz\n",
    "\n",
    "def segunda_representacion(data):\n",
    "    \"\"\"\n",
    "    Convertimos el dataset con la primera codificación a un array\n",
    "    de floats de 448 posiciones, los 7 tableros en un array.\n",
    "    \"\"\"\n",
    "    array = []\n",
    "    aux = np.zeros(64*7)\n",
    "    \n",
    "    for i in range(len(data)):\n",
    "        for j in range(7):\n",
    "            t = data[i][j].split(',')\n",
    "            u = [float(x) for x in t]\n",
    "            for k in range(64):\n",
    "                aux[k+j*64] = u[k]\n",
    "     \n",
    "        array.append(aux.copy())\n",
    "    return array\n",
    "\n",
    "def tercera_representacion(data):\n",
    "    \"\"\"\n",
    "    Convertimos el dataset con la segunda codificación \n",
    "    a una matriz.\n",
    "    \"\"\"\n",
    "    \n",
    "    matriz = []\n",
    "    aux = np.zeros([8,8,1])\n",
    "    \n",
    "    for i in range(len(data)):\n",
    "        t = data[i][0].split(',')\n",
    "        u = [float(x) for x in t]\n",
    "        for k in range(8):\n",
    "            for l in range(8):\n",
    "                aux[k][l][0] = u[(8*k+l)]\n",
    "\n",
    "        matriz.append(aux.copy())\n",
    "    return matriz\n",
    "\n",
    "#########################################################################\n",
    "################ FUNCIÓN PARA LEER EL CONJUNTO DE DATOS #################\n",
    "#########################################################################\n",
    "def leer_datos(csv):\n",
    "    \"\"\"\n",
    "    Dado un csv separado por ';' leemos los datos.\n",
    "    \"\"\"\n",
    "    dataset = pd.read_csv(csv, sep=';')\n",
    "    \n",
    "    return dataset\n",
    "\n",
    "#########################################################################\n",
    "###################### FUNCIÓN PARA EXPORTAR DATOS ######################\n",
    "#########################################################################\n",
    "def exportar_datos(dataframe, nombre):\n",
    "    \"\"\"\n",
    "    Dado un dataframe y el nombre que recibe lo exportamos a csv, separado por ';'.\n",
    "    \"\"\"\n",
    "    dataframe.to_csv(nombre, sep=';')\n",
    "\n",
    "#########################################################################\n",
    "############## FUNCIONES PARA CARGAR EL CONJUNTO DE DATOS ###############\n",
    "#########################################################################\n",
    "def cargar_datos():\n",
    "    \"\"\"\n",
    "    Cargamos los datos, para ello leemos primero los ficheros.\n",
    "    Posteriormente codificamos los datos de entrada y devolvemos\n",
    "    los conjuntos de entrenamiento y test para usarlos con keras.\n",
    "    \"\"\"\n",
    "    \n",
    "    # Leemos los datos\n",
    "    datasetTablerosPrimeraCod = leer_datos('/content/drive/MyDrive/TFG_Ajedrez/CSV/PrimeraCodificacionTablero.csv')\n",
    "    datasetTablerosSegundaCod = leer_datos('/content/drive/MyDrive/TFG_Ajedrez/CSV/SegundaCodificacionTablero.csv')\n",
    "    datasetEtiquetas = leer_datos('/content/drive/MyDrive/TFG_Ajedrez/CSV/Etiquetas.csv')\n",
    "    \n",
    "    # Obtenemos los valores que nos interesan\n",
    "    X_primeraCod = datasetTablerosPrimeraCod.iloc[:, 1:].values\n",
    "    X_segundaCod = datasetTablerosSegundaCod.iloc[:,1:].values\n",
    "    Y = datasetEtiquetas.iloc[:, 4:].values\n",
    "\n",
    "    # Convertimos los datos\n",
    "    x_train1 = np.array(primera_representacion(X_primeraCod))\n",
    "    x_train2 = np.array(segunda_representacion(X_primeraCod))\n",
    "    x_train3 = np.array(tercera_representacion(X_segundaCod))\n",
    "    \n",
    "    y_train = Y    \n",
    "    \n",
    "    # Dividmos los datos de entrenamiento\n",
    "    # Primero barajamos los datos y después obtenemos los datos \n",
    "    # para los tests y el entrenamiento \n",
    "    np.random.seed(100)\n",
    "    indices = np.random.permutation(x_train1.shape[0])\n",
    "    valid_cnt = int(x_train1.shape[0]*0.2)\n",
    "\n",
    "    test_idx, training_idx = indices[:valid_cnt],\\\n",
    "                        indices[valid_cnt:]\n",
    "    test1, train1 = x_train1[test_idx,:],\\\n",
    "                        x_train1[training_idx]\n",
    "    test2, train2 = x_train2[test_idx,:],\\\n",
    "                        x_train2[training_idx]\n",
    "    test3, train3 = x_train3[test_idx,:],\\\n",
    "                        x_train3[training_idx]\n",
    "    onehot_test, onehot_train = y_train[test_idx,:],\\\n",
    "                        y_train[training_idx,:]\n",
    "    \n",
    "    \n",
    "    \n",
    "    return train1, test1, train2, test2, train3, test3, onehot_train, onehot_test\n",
    "    \n",
    "\n",
    "#########################################################################\n",
    "################## FUNCIÓN PARA MODIFICAR LAS ETIQUETAS #################\n",
    "#########################################################################    \n",
    "def modif_etiquetas(onehot_train, onehot_test, num):\n",
    "    \"\"\"\n",
    "    Es necesario pasarle como parámetros las etiquetas de entrenamiento y\n",
    "    las etiquetas para el test, asdemás también necesitamos el número de\n",
    "    la etiqueta seleccionada.\n",
    "    \"\"\"\n",
    "    categorias = max(len(Counter(onehot_train[:,num].reshape(-1))), \n",
    "                     len(Counter(onehot_test[:,num].reshape(-1))))\n",
    "    train_labels = to_categorical(onehot_train[:,num], categorias)\n",
    "    test_labels = to_categorical(onehot_test[:,num], categorias)\n",
    "    \n",
    "    return train_labels, test_labels\n",
    "\n",
    "\n",
    "#########################################################################\n",
    "############# FUNCIÓN PARA MOSTRAR LA EVOLUCIÓN DEL MODELO ##############\n",
    "#########################################################################\n",
    "def mostrar_evolucion(hist):\n",
    "    \"\"\"\n",
    "    Esta función pinta dos gráficas, una con la evolución\n",
    "    de la función de pérdida en el conjunto de entrenamiento y\n",
    "    en el de validación, y otra con la evolución de la\n",
    "    accuracy en el conjunto de entrenamiento y el de validación.\n",
    "    Es necesario pasarle como parámetro el historial del\n",
    "    entrenamiento del modelo.\n",
    "    \"\"\"\n",
    "    plt.plot(hist.history['accuracy'])\n",
    "    plt.plot(hist.history['val_accuracy'])\n",
    "    plt.title('Model accuracy')\n",
    "    plt.ylabel('Accuracy')\n",
    "    plt.xlabel('Epoch')\n",
    "    plt.legend(['Train', 'Test'], loc='upper left')\n",
    "    plt.show()\n",
    "\n",
    "    # Plot training & validation loss values\n",
    "    plt.plot(hist.history['loss'])\n",
    "    plt.plot(hist.history['val_loss'])\n",
    "    plt.title('Model loss')\n",
    "    plt.ylabel('Loss')\n",
    "    plt.xlabel('Epoch')\n",
    "    plt.legend(['Train', 'Test'], loc='upper left')\n",
    "    plt.show()"
   ]
  },
  {
   "cell_type": "markdown",
   "id": "34d79bac",
   "metadata": {
    "id": "34d79bac"
   },
   "source": [
    "# Definimos los modelos"
   ]
  },
  {
   "cell_type": "code",
   "execution_count": null,
   "id": "e5c94835",
   "metadata": {
    "executionInfo": {
     "elapsed": 7,
     "status": "ok",
     "timestamp": 1667824591615,
     "user": {
      "displayName": "ADRIAN RODRIGUEZ MONTERO",
      "userId": "04477714195734396533"
     },
     "user_tz": -60
    },
    "id": "e5c94835"
   },
   "outputs": [],
   "source": [
    "def modelo1(input_size, output_size):\n",
    "    \"\"\"\n",
    "    Este modelo toma como entrada una matriz tridimensional \n",
    "    formada por 7 tableros. Empleamos una red convolucional para ello.\n",
    "    \"\"\"\n",
    "    # Creamos la estructura que contendrá nuestro modelo\n",
    "    model = Sequential()\n",
    "    \n",
    "    # Creamos las capas ocultas\n",
    "    model.add(Conv2D(64, kernel_size=(3, 3), input_shape=input_size, activation='relu'))\n",
    "    # Reducimos la profundidad\n",
    "    model.add(Conv2D(64, kernel_size=(1, 1), activation='relu'))\n",
    "    model.add(Dropout(0.4))\n",
    "    model.add(Flatten())\n",
    "    model.add(Dense(64, activation = 'relu'))\n",
    "    model.add(BatchNormalization())\n",
    "    model.add(Dense(32, activation = 'relu'))\n",
    "    model.add(BatchNormalization())\n",
    "    model.add(Dense(64, activation = 'relu'))\n",
    "    model.add(BatchNormalization())\n",
    "    model.add(Dense(16, activation = 'relu'))\n",
    "    model.add(BatchNormalization())\n",
    "    model.add(Dense(units = output_size, activation = 'softmax'))\n",
    "    \n",
    "    return model    "
   ]
  },
  {
   "cell_type": "code",
   "execution_count": null,
   "id": "92137d38",
   "metadata": {
    "executionInfo": {
     "elapsed": 17,
     "status": "ok",
     "timestamp": 1667824592149,
     "user": {
      "displayName": "ADRIAN RODRIGUEZ MONTERO",
      "userId": "04477714195734396533"
     },
     "user_tz": -60
    },
    "id": "92137d38"
   },
   "outputs": [],
   "source": [
    "def modelo2(input_size, output_size):\n",
    "    \"\"\"\n",
    "    Este modelo toma como entrada un array formado por los 7 tableros.\n",
    "    \"\"\"\n",
    "    \n",
    "    # Creamos la estructura que contendrá nuestro modelo\n",
    "    model = Sequential()\n",
    "    \n",
    "    # Creamos las capas ocultas\n",
    "    model.add(Dense(128, input_dim = input_size, activation = 'relu'))\n",
    "    model.add(BatchNormalization())\n",
    "    model.add(Dense(64, activation = 'relu'))\n",
    "    model.add(BatchNormalization())\n",
    "    model.add(Dense(128, activation = 'relu'))\n",
    "    model.add(BatchNormalization())\n",
    "    model.add(Dense(256, activation = 'relu'))\n",
    "    model.add(BatchNormalization())\n",
    "    model.add(Dense(128, activation = 'relu'))\n",
    "    model.add(BatchNormalization())\n",
    "    model.add(Dropout(0.4))\n",
    "    model.add(Dense(64, activation = 'relu'))\n",
    "    model.add(BatchNormalization())\n",
    "    model.add(Dense(16, activation = 'relu'))\n",
    "    model.add(BatchNormalization())\n",
    "    model.add(Dense(units = output_size, activation = 'softmax'))\n",
    "    \n",
    "    return model"
   ]
  },
  {
   "cell_type": "code",
   "execution_count": null,
   "id": "ccb73695",
   "metadata": {
    "executionInfo": {
     "elapsed": 5,
     "status": "ok",
     "timestamp": 1667824592945,
     "user": {
      "displayName": "ADRIAN RODRIGUEZ MONTERO",
      "userId": "04477714195734396533"
     },
     "user_tz": -60
    },
    "id": "ccb73695"
   },
   "outputs": [],
   "source": [
    "def modelo3(input_size, output_size):\n",
    "    \"\"\"\n",
    "    Este modelo cuenta con una codificación de un único tablero \n",
    "    con las piezas codificadas con enteros del 1 al 6, positivos\n",
    "    para las piezas blancas y negativos para las negras, el 0\n",
    "    significa casilla vacía.\n",
    "    \"\"\"\n",
    "    \n",
    "    # Creamos la estructura que contendrá nuestro modelo\n",
    "    model = Sequential()\n",
    "    \n",
    "    # Creamos las capas ocultas\n",
    "    model.add(Conv2D(32, kernel_size=(3, 3), input_shape=input_size, activation='relu'))\n",
    "    model.add(Dropout(0.2))\n",
    "    model.add(Flatten())\n",
    "    model.add(Dense(64, activation = 'relu'))\n",
    "    model.add(BatchNormalization())\n",
    "    model.add(Dense(128, activation = 'relu'))\n",
    "    model.add(BatchNormalization())\n",
    "    model.add(Dense(256, activation = 'relu'))\n",
    "    model.add(BatchNormalization())\n",
    "    model.add(Dense(128, activation = 'relu'))\n",
    "    model.add(BatchNormalization())\n",
    "    model.add(Dense(64, activation = 'relu'))\n",
    "    model.add(BatchNormalization())\n",
    "    model.add(Dense(32, activation = 'relu'))\n",
    "    model.add(BatchNormalization())\n",
    "    model.add(Dense(64, activation = 'relu'))\n",
    "    model.add(BatchNormalization())\n",
    "    model.add(Dense(16, activation = 'relu'))\n",
    "    model.add(BatchNormalization())\n",
    "    model.add(Dense(units = output_size, activation = 'softmax'))\n",
    "    \n",
    "    return model"
   ]
  },
  {
   "cell_type": "markdown",
   "id": "85de7280",
   "metadata": {
    "id": "85de7280"
   },
   "source": [
    "# Entrenamos y evaluamos los modelos"
   ]
  },
  {
   "cell_type": "code",
   "execution_count": null,
   "id": "af6cc939",
   "metadata": {
    "executionInfo": {
     "elapsed": 482,
     "status": "ok",
     "timestamp": 1667824628330,
     "user": {
      "displayName": "ADRIAN RODRIGUEZ MONTERO",
      "userId": "04477714195734396533"
     },
     "user_tz": -60
    },
    "id": "af6cc939"
   },
   "outputs": [],
   "source": [
    "def entrenar_evaluar(model, x_train, y_train, x_test, y_test, batch_size, epochs, validation_split=None, verbose=0, show=False):\n",
    "    \"\"\"\n",
    "    Definimos la función para entrenar y evaluar el modelo.\n",
    "    Los parámetros necesarios son el modelo a entrenar y evaluar,\n",
    "    los datos de entrenamiento y las etiquetas, tamaño del batch, \n",
    "    las épocas de entrenamiento, el porcentaje de división de los datos, \n",
    "    si mostramos o no la progresión y la evolución.\n",
    "    \"\"\"    \n",
    "    # Configuramos el modelo con la función de pérdida, optimizador y métrica\n",
    "    model.compile(loss='categorical_crossentropy', optimizer='adam', metrics=['accuracy'])\n",
    "\n",
    "    # Entrenamos el modelo\n",
    "    history = model.fit(x_train, y_train, \n",
    "                        epochs=epochs, batch_size=batch_size, \n",
    "                        validation_split=validation_split, \n",
    "                        callbacks = [tensorflow.keras.callbacks.EarlyStopping(monitor='val_loss', patience=16, restore_best_weights=True)], \n",
    "                        verbose=verbose)\n",
    "    \n",
    "\n",
    "    y_pred = model.predict(x_test, batch_size=batch_size, verbose=verbose)  \n",
    "    y_predicted = np.argmax(y_pred, axis=1)  \n",
    "    print(confusion_matrix(y_test.argmax(1), y_predicted))\n",
    "\n",
    "    print(classification_report(np.argmax(y_test, axis=1), y_predicted))\n",
    "    f1_m = f1_score(np.argmax(y_test, axis=1), y_predicted, average='macro')\n",
    "    print(f1_m)\n",
    "    f1_w = f1_score(np.argmax(y_test, axis=1), y_predicted, average='weighted')\n",
    "    print(f1_w)\n",
    "\n",
    "    # Evaluamos el modelo\n",
    "    score = model.evaluate(x_test, y_test, verbose=verbose)\n",
    "    \n",
    "    print(score)\n",
    "    \n",
    "    if show == True:\n",
    "        mostrar_evolucion(history)\n",
    "\n",
    "    return model.get_weights(), score[0], score[1], f1_m, f1_w"
   ]
  },
  {
   "cell_type": "markdown",
   "id": "d1813d0d",
   "metadata": {
    "id": "d1813d0d"
   },
   "source": [
    "# Realizamos los entrenamientos "
   ]
  },
  {
   "cell_type": "markdown",
   "id": "32b1ef09",
   "metadata": {
    "id": "32b1ef09"
   },
   "source": [
    "## Obtenemos los datos"
   ]
  },
  {
   "cell_type": "code",
   "execution_count": null,
   "id": "f403f15e",
   "metadata": {
    "executionInfo": {
     "elapsed": 33230,
     "status": "ok",
     "timestamp": 1667824668248,
     "user": {
      "displayName": "ADRIAN RODRIGUEZ MONTERO",
      "userId": "04477714195734396533"
     },
     "user_tz": -60
    },
    "id": "f403f15e"
   },
   "outputs": [],
   "source": [
    "train1, test1, train2, test2, train3, test3, onehot_train, onehot_test = cargar_datos()"
   ]
  },
  {
   "cell_type": "code",
   "execution_count": null,
   "id": "8e2cb6fd",
   "metadata": {
    "colab": {
     "base_uri": "https://localhost:8080/"
    },
    "executionInfo": {
     "elapsed": 41,
     "status": "ok",
     "timestamp": 1667824668255,
     "user": {
      "displayName": "ADRIAN RODRIGUEZ MONTERO",
      "userId": "04477714195734396533"
     },
     "user_tz": -60
    },
    "id": "8e2cb6fd",
    "outputId": "46a726ac-0901-4225-f439-c8d2e8673c03"
   },
   "outputs": [],
   "source": [
    "# Número de etiquetas\n",
    "len(Counter(Etiquetas))"
   ]
  },
  {
   "cell_type": "code",
   "execution_count": null,
   "id": "56004ff9",
   "metadata": {
    "executionInfo": {
     "elapsed": 599,
     "status": "ok",
     "timestamp": 1667824668824,
     "user": {
      "displayName": "ADRIAN RODRIGUEZ MONTERO",
      "userId": "04477714195734396533"
     },
     "user_tz": -60
    },
    "id": "56004ff9"
   },
   "outputs": [],
   "source": [
    "# Almacenamos las etiquetas como datos categóricos \n",
    "\n",
    "y_train = []\n",
    "y_test = []\n",
    "\n",
    "for e in Etiquetas.values():\n",
    "    train_labels, test_labels = modif_etiquetas(onehot_train,onehot_test,e)\n",
    "    y_train.append(np.array(train_labels.copy()))\n",
    "    y_test.append(np.array(test_labels.copy()))"
   ]
  },
  {
   "cell_type": "code",
   "execution_count": null,
   "id": "3a06c925",
   "metadata": {
    "colab": {
     "base_uri": "https://localhost:8080/"
    },
    "executionInfo": {
     "elapsed": 8,
     "status": "ok",
     "timestamp": 1667824668825,
     "user": {
      "displayName": "ADRIAN RODRIGUEZ MONTERO",
      "userId": "04477714195734396533"
     },
     "user_tz": -60
    },
    "id": "3a06c925",
    "outputId": "7762aa2c-cd9d-4b54-eaf3-948081ec81af"
   },
   "outputs": [],
   "source": [
    "for i in range(len(Counter(Etiquetas))):\n",
    "    print(i,\": \",y_train[i].shape, y_test[i].shape)"
   ]
  },
  {
   "cell_type": "markdown",
   "id": "e8cfb28e",
   "metadata": {
    "id": "e8cfb28e"
   },
   "source": [
    "## Modelo 1"
   ]
  },
  {
   "cell_type": "code",
   "execution_count": null,
   "id": "6d8d7485",
   "metadata": {
    "id": "6d8d7485"
   },
   "outputs": [],
   "source": [
    "# Tamaño del batch\n",
    "batch_size = 32\n",
    "# Épocas de entrenamiento\n",
    "epochs = 80\n",
    "# División de los datos\n",
    "validation_split = 0.2\n",
    "# Progresión\n",
    "verbose = 1\n",
    "# Mostrar Evolucion\n",
    "show = True"
   ]
  },
  {
   "cell_type": "code",
   "execution_count": null,
   "id": "3a33825d",
   "metadata": {
    "id": "3a33825d"
   },
   "outputs": [],
   "source": [
    "# Definimos el array de pesos, la media de la función pérdida y la media de accuracy\n",
    "arr_weights1 = []\n",
    "weights1 = 0\n",
    "arr_loss1 = []\n",
    "mean_loss1 = 0\n",
    "loss1 = 0\n",
    "arr_acc1 = []\n",
    "mean_acc1 = 0\n",
    "acc1 = 0\n",
    "f1_macro1 = 0\n",
    "f1_weighted1 = 0\n",
    "arr_f1_macro1 = []\n",
    "arr_f1_weighted1 = []"
   ]
  },
  {
   "cell_type": "code",
   "execution_count": null,
   "id": "3d7e95d2",
   "metadata": {
    "colab": {
     "background_save": true,
     "base_uri": "https://localhost:8080/",
     "height": 1000
    },
    "executionInfo": {
     "elapsed": 10138041,
     "status": "ok",
     "timestamp": 1667775136093,
     "user": {
      "displayName": "Adrian Rodriguez Montero",
      "userId": "02849489467313843409"
     },
     "user_tz": -60
    },
    "id": "3d7e95d2",
    "outputId": "ac2a2afa-dff2-494c-fc2a-c0d41b461f80"
   },
   "outputs": [],
   "source": [
    "for i in range(len(Counter(Etiquetas))):\n",
    "    print(\"Número : \",i)\n",
    "    model = modelo1(train1[i].shape, y_train[i].shape[1])\n",
    "    model.summary()\n",
    "    weights1, loss1, acc1, f1_macro1, f1_weighted1 = entrenar_evaluar(model, train1, y_train[i], test1, y_test[i], batch_size, epochs, validation_split, verbose, show)\n",
    "    arr_weights1.append(weights1)\n",
    "    arr_loss1.append(loss1)\n",
    "    arr_acc1.append(acc1)\n",
    "    arr_f1_macro1.append(f1_macro1)\n",
    "    arr_f1_weighted1.append(f1_weighted1)\n",
    "    mean_loss1 = mean_loss1 + loss1\n",
    "    mean_acc1 = mean_acc1 + acc1\n",
    "\n",
    "mean_loss1 = mean_loss1/len(Counter(Etiquetas))\n",
    "mean_acc1 = mean_acc1/len(Counter(Etiquetas))"
   ]
  },
  {
   "cell_type": "code",
   "execution_count": null,
   "id": "WbWWwdWo8gEh",
   "metadata": {
    "id": "WbWWwdWo8gEh"
   },
   "outputs": [],
   "source": [
    "lista_m1 = [arr_loss1,arr_acc1,arr_f1_macro1,arr_f1_weighted1]\n",
    "\n",
    "df_1 = pd.DataFrame(lista_m1)\n",
    "exportar_datos(df_1, 'model1.csv')"
   ]
  },
  {
   "cell_type": "code",
   "execution_count": null,
   "id": "grtpQFFo-S7B",
   "metadata": {
    "colab": {
     "base_uri": "https://localhost:8080/",
     "height": 17
    },
    "executionInfo": {
     "elapsed": 3,
     "status": "ok",
     "timestamp": 1667487068882,
     "user": {
      "displayName": "ADRIAN RODRIGUEZ MONTERO",
      "userId": "04477714195734396533"
     },
     "user_tz": -60
    },
    "id": "grtpQFFo-S7B",
    "outputId": "74a4c947-bc83-4a5f-9d96-5312bdfb6f83"
   },
   "outputs": [],
   "source": [
    "from google.colab import files\n",
    "files.download(\"model1.csv\")\n"
   ]
  },
  {
   "cell_type": "markdown",
   "id": "1dad303e",
   "metadata": {
    "id": "1dad303e"
   },
   "source": [
    "## Modelo 2"
   ]
  },
  {
   "cell_type": "code",
   "execution_count": null,
   "id": "97c27e7c",
   "metadata": {
    "id": "97c27e7c"
   },
   "outputs": [],
   "source": [
    "# Tamaño del batch\n",
    "batch_size = 32\n",
    "# Épocas de entrenamiento\n",
    "epochs = 150\n",
    "# División de los datos\n",
    "validation_split = 0.2\n",
    "# Progresión\n",
    "verbose = 1\n",
    "# Mostrar Evolucion\n",
    "show = True"
   ]
  },
  {
   "cell_type": "code",
   "execution_count": null,
   "id": "add4bc2b",
   "metadata": {
    "id": "add4bc2b"
   },
   "outputs": [],
   "source": [
    "# Definimos el array de pesos, la media de la función pérdida y la media de accuracy\n",
    "arr_weights2 = []\n",
    "weights2 = 0\n",
    "arr_loss2 = []\n",
    "mean_loss2 = 0\n",
    "loss2 = 0\n",
    "arr_acc2 = []\n",
    "mean_acc2 = 0\n",
    "acc2 = 0\n",
    "f1_macro2 = 0\n",
    "f1_weighted2 = 0\n",
    "arr_f1_macro2 = []\n",
    "arr_f1_weighted2 = []"
   ]
  },
  {
   "cell_type": "code",
   "execution_count": null,
   "id": "b4519f35",
   "metadata": {
    "colab": {
     "base_uri": "https://localhost:8080/",
     "height": 1000
    },
    "executionInfo": {
     "elapsed": 6086,
     "status": "error",
     "timestamp": 1667759839124,
     "user": {
      "displayName": "ADRIAN RODRIGUEZ MONTERO",
      "userId": "04477714195734396533"
     },
     "user_tz": -60
    },
    "id": "b4519f35",
    "outputId": "43bfa547-27ff-453a-858a-504dc78001f3",
    "scrolled": true
   },
   "outputs": [],
   "source": [
    "for i in range(len(Counter(Etiquetas))):\n",
    "    print(\"Número : \",i)\n",
    "    model = modelo2(train2.shape[1], y_train[i].shape[1])\n",
    "    model.summary()\n",
    "    weights2, loss2, acc2, f1_macro2, f1_weighted2 = entrenar_evaluar(model, train2, y_train[i], test2, y_test[i], batch_size, epochs, validation_split, verbose, show)\n",
    "    arr_weights2.append(weights2)\n",
    "    arr_loss2.append(loss2)\n",
    "    arr_acc2.append(acc2)\n",
    "    arr_f1_macro2.append(f1_macro2)\n",
    "    arr_f1_weighted2.append(f1_weighted2)\n",
    "    mean_loss2 = mean_loss2 + loss2\n",
    "    mean_acc2 = mean_acc2 + acc2\n",
    "\n",
    "mean_loss2 = mean_loss2/len(Counter(Etiquetas))\n",
    "mean_acc2 = mean_acc2/len(Counter(Etiquetas))"
   ]
  },
  {
   "cell_type": "code",
   "execution_count": null,
   "id": "mEFHt1E1SuGA",
   "metadata": {
    "id": "mEFHt1E1SuGA"
   },
   "outputs": [],
   "source": [
    "lista_m2 = [arr_loss2,arr_acc2,arr_f1_macro2,arr_f1_weighted2]\n",
    "\n",
    "df_2 = pd.DataFrame(lista_m2)\n",
    "exportar_datos(df_2, 'model2.csv')"
   ]
  },
  {
   "cell_type": "code",
   "execution_count": null,
   "id": "1ypVmAULTAhg",
   "metadata": {
    "colab": {
     "base_uri": "https://localhost:8080/",
     "height": 17
    },
    "executionInfo": {
     "elapsed": 324,
     "status": "ok",
     "timestamp": 1667559598861,
     "user": {
      "displayName": "ADRIAN RODRIGUEZ MONTERO",
      "userId": "04477714195734396533"
     },
     "user_tz": -60
    },
    "id": "1ypVmAULTAhg",
    "outputId": "51ffbb39-ef2d-4a18-b8c5-5e505c8f719f"
   },
   "outputs": [],
   "source": [
    "from google.colab import files\n",
    "files.download(\"model2.csv\")"
   ]
  },
  {
   "cell_type": "markdown",
   "id": "6df9ed17",
   "metadata": {
    "id": "6df9ed17"
   },
   "source": [
    "## Modelo 3"
   ]
  },
  {
   "cell_type": "code",
   "execution_count": null,
   "id": "3d62a926",
   "metadata": {
    "executionInfo": {
     "elapsed": 955,
     "status": "ok",
     "timestamp": 1667824681158,
     "user": {
      "displayName": "ADRIAN RODRIGUEZ MONTERO",
      "userId": "04477714195734396533"
     },
     "user_tz": -60
    },
    "id": "3d62a926"
   },
   "outputs": [],
   "source": [
    "# Tamaño del batch\n",
    "batch_size = 32\n",
    "# Épocas de entrenamiento\n",
    "epochs = 100\n",
    "# División de los datos\n",
    "validation_split = 0.2\n",
    "# Progresión\n",
    "verbose = 1\n",
    "# Mostrar Evolucion\n",
    "show = True"
   ]
  },
  {
   "cell_type": "code",
   "execution_count": null,
   "id": "d88c649d",
   "metadata": {
    "executionInfo": {
     "elapsed": 11,
     "status": "ok",
     "timestamp": 1667824681733,
     "user": {
      "displayName": "ADRIAN RODRIGUEZ MONTERO",
      "userId": "04477714195734396533"
     },
     "user_tz": -60
    },
    "id": "d88c649d"
   },
   "outputs": [],
   "source": [
    "# Definimos el array de pesos, la media de la función pérdida y la media de accuracy\n",
    "arr_weights3 = []\n",
    "weights3 = 0\n",
    "arr_loss3 = []\n",
    "mean_loss3 = 0\n",
    "loss3 = 0\n",
    "arr_acc3 = []\n",
    "mean_acc3 = 0\n",
    "acc3 = 0\n",
    "f1_macro3 = 0\n",
    "f1_weighted3 = 0\n",
    "arr_f1_macro3 = []\n",
    "arr_f1_weighted3 = []"
   ]
  },
  {
   "cell_type": "code",
   "execution_count": null,
   "id": "de92e3b2",
   "metadata": {
    "colab": {
     "base_uri": "https://localhost:8080/"
    },
    "id": "de92e3b2",
    "outputId": "1939a88a-86a4-4bb8-df99-36e3f0caf54e"
   },
   "outputs": [],
   "source": [
    "for i in range(len(Counter(Etiquetas))):\n",
    "    print(\"Número : \",i)\n",
    "    model = modelo3(train3[i].shape, y_train[i].shape[1])\n",
    "    model.summary()\n",
    "    weights3, loss3, acc3, f1_macro3, f1_weighted3 = entrenar_evaluar(model, train3, y_train[i], test3, y_test[i], batch_size, epochs, validation_split, verbose, show)\n",
    "    arr_weights3.append(weights3)\n",
    "    arr_loss3.append(loss3)\n",
    "    arr_acc3.append(acc3)\n",
    "    arr_f1_macro3.append(f1_macro3)\n",
    "    arr_f1_weighted3.append(f1_weighted3)\n",
    "    mean_loss3 = mean_loss3 + loss3\n",
    "    mean_acc3 = mean_acc3 + acc3\n",
    "\n",
    "mean_loss3 = mean_loss3/len(Counter(Etiquetas))\n",
    "mean_acc3 = mean_acc3/len(Counter(Etiquetas))"
   ]
  },
  {
   "cell_type": "code",
   "execution_count": null,
   "id": "rG9q1946Y1o2",
   "metadata": {
    "id": "rG9q1946Y1o2"
   },
   "outputs": [],
   "source": [
    "lista_m3 = [arr_loss3,arr_acc3,arr_f1_macro3,arr_f1_weighted3]\n",
    "\n",
    "df_3 = pd.DataFrame(lista_m3)\n",
    "exportar_datos(df_3, 'model3.csv')"
   ]
  },
  {
   "cell_type": "code",
   "execution_count": null,
   "id": "LmUnwo4KZo82",
   "metadata": {
    "colab": {
     "base_uri": "https://localhost:8080/",
     "height": 17
    },
    "executionInfo": {
     "elapsed": 7,
     "status": "ok",
     "timestamp": 1667595299595,
     "user": {
      "displayName": "ADRIAN RODRIGUEZ MONTERO",
      "userId": "04477714195734396533"
     },
     "user_tz": -60
    },
    "id": "LmUnwo4KZo82",
    "outputId": "cf28f4ba-8f3d-461f-a018-5b28c553e1e9"
   },
   "outputs": [],
   "source": [
    "from google.colab import files\n",
    "files.download(\"model3.csv\")"
   ]
  },
  {
   "cell_type": "code",
   "execution_count": null,
   "id": "e13ecbef",
   "metadata": {},
   "outputs": [],
   "source": []
  },
  {
   "cell_type": "code",
   "execution_count": null,
   "id": "fdd32b83",
   "metadata": {},
   "outputs": [],
   "source": []
  }
 ],
 "metadata": {
  "accelerator": "GPU",
  "colab": {
   "collapsed_sections": [],
   "provenance": []
  },
  "gpuClass": "standard",
  "kernelspec": {
   "display_name": "Python 3 (ipykernel)",
   "language": "python",
   "name": "python3"
  },
  "language_info": {
   "codemirror_mode": {
    "name": "ipython",
    "version": 3
   },
   "file_extension": ".py",
   "mimetype": "text/x-python",
   "name": "python",
   "nbconvert_exporter": "python",
   "pygments_lexer": "ipython3",
   "version": "3.9.12"
  }
 },
 "nbformat": 4,
 "nbformat_minor": 5
}
