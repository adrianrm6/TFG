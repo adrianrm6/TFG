{
 "cells": [
  {
   "cell_type": "code",
   "execution_count": 173,
   "id": "b640ba6e",
   "metadata": {},
   "outputs": [],
   "source": [
    "import numpy as np\n",
    "import scipy as sc\n",
    "import matplotlib.pyplot as plt\n",
    "import pandas as pd\n",
    "\n",
    "from collections import Counter"
   ]
  },
  {
   "cell_type": "code",
   "execution_count": 190,
   "id": "5e620fdc",
   "metadata": {},
   "outputs": [],
   "source": [
    "###################################################################################################\n",
    "############################# FUNCIÓN PARA LEER EL CONJUNTO DE DATOS ##############################\n",
    "###################################################################################################\n",
    "def leer_datos(csv):\n",
    "    \"\"\"\n",
    "    Dado un csv separado por ';' leemos los datos.\n",
    "    \"\"\"\n",
    "    dataset = pd.read_csv(csv, sep=';')\n",
    "    \n",
    "    return dataset\n",
    "###################################################################################################\n",
    "############################ FUNCIÓN PARA OBTENER EL CONJUNTO DE DATOS ############################\n",
    "###################################################################################################\n",
    "def convertir(dataframe):\n",
    "    \"\"\"\n",
    "    Dado un dataframe obtenemos el txt pertinente separado por ';'.\n",
    "    \"\"\"\n",
    "    dataframe.to_csv('FEN_DB.txt', sep=';', index=False)\n",
    "\n",
    "###################################################################################################\n",
    "############### FUNCIÓN PARA FILTRAR LAS POSICIONES ENTRE EL MOVIMIENTO 20 Y EL 50 ################\n",
    "###################################################################################################\n",
    "def filtro_movimientos(x):\n",
    "    \"\"\"\n",
    "    Filtramos los movimientos entre el movimiento 20 y el movimiento 50\n",
    "    \"\"\"\n",
    "    posicionesfiltradas = []\n",
    "    \n",
    "    for i in range(len(x)):\n",
    "        if(int(x[i][0].split()[len(x[i][0].split())-1]) > 20):\n",
    "            if(int(x[i][0].split()[len(x[i][0].split())-1]) < 50):\n",
    "                if (x[i][4] < 70):\n",
    "                    posicionesfiltradas.append(x[i])\n",
    "    return posicionesfiltradas\n",
    "\n",
    "###################################################################################################\n",
    "############### FUNCIÓN PARA OBTENER 100000 POSICIONES DE LAS OBTENIDAS PREVIAMENTE ###############\n",
    "###################################################################################################\n",
    "def posiciones_definitivas(posicionesfiltradas):\n",
    "    \"\"\"\n",
    "    Obtenemos del total de posiciones filtradas cien mil para entrenar posteriormente la red neuronal\n",
    "    \"\"\"\n",
    "\n",
    "    # Obtenemos el dataframe\n",
    "    posicionesdefinitivas = pd.DataFrame(posicionesfiltradas)\n",
    "    \n",
    "    # Eliminamos las columnas que no nos interesan\n",
    "    posicionesdefinitivas = posicionesdefinitivas.drop(posicionesdefinitivas.columns[[2, 3, 4]], axis='columns')\n",
    "    \n",
    "    # Barajamos\n",
    "    np.random.seed(3)\n",
    "    posicionesdefinitivas = posicionesdefinitivas.sample(frac=1).reset_index(drop=True)\n",
    "    \n",
    "    # Por último, obtenemos cien mil filas\n",
    "\n",
    "    return posicionesdefinitivas.head(50000)"
   ]
  },
  {
   "cell_type": "code",
   "execution_count": 191,
   "id": "483c92a8",
   "metadata": {},
   "outputs": [],
   "source": [
    "datasetTableros = leer_datos('PosicionesPartidas.csv')"
   ]
  },
  {
   "cell_type": "code",
   "execution_count": 192,
   "id": "c5d3e8cd",
   "metadata": {},
   "outputs": [],
   "source": [
    "x = datasetTableros.iloc[:, :].values"
   ]
  },
  {
   "cell_type": "code",
   "execution_count": 193,
   "id": "61efee02",
   "metadata": {},
   "outputs": [],
   "source": [
    "posicionesfiltradas = filtro_movimientos(x)"
   ]
  },
  {
   "cell_type": "code",
   "execution_count": 194,
   "id": "800abd34",
   "metadata": {},
   "outputs": [
    {
     "data": {
      "text/plain": [
       "383063"
      ]
     },
     "execution_count": 194,
     "metadata": {},
     "output_type": "execute_result"
    }
   ],
   "source": [
    "len(posicionesfiltradas)"
   ]
  },
  {
   "cell_type": "code",
   "execution_count": 195,
   "id": "4c9ba6a3",
   "metadata": {},
   "outputs": [],
   "source": [
    "posiciones = posiciones_definitivas(posicionesfiltradas)"
   ]
  },
  {
   "cell_type": "code",
   "execution_count": 196,
   "id": "eb3fac0c",
   "metadata": {},
   "outputs": [
    {
     "data": {
      "text/html": [
       "<div>\n",
       "<style scoped>\n",
       "    .dataframe tbody tr th:only-of-type {\n",
       "        vertical-align: middle;\n",
       "    }\n",
       "\n",
       "    .dataframe tbody tr th {\n",
       "        vertical-align: top;\n",
       "    }\n",
       "\n",
       "    .dataframe thead th {\n",
       "        text-align: right;\n",
       "    }\n",
       "</style>\n",
       "<table border=\"1\" class=\"dataframe\">\n",
       "  <thead>\n",
       "    <tr style=\"text-align: right;\">\n",
       "      <th></th>\n",
       "      <th>0</th>\n",
       "      <th>1</th>\n",
       "    </tr>\n",
       "  </thead>\n",
       "  <tbody>\n",
       "    <tr>\n",
       "      <th>0</th>\n",
       "      <td>3b1r1k/RQnq4/2p1n3/NpPp1p2/1P1PpPp1/2B1P1Pp/4B...</td>\n",
       "      <td>f8f7</td>\n",
       "    </tr>\n",
       "    <tr>\n",
       "      <th>1</th>\n",
       "      <td>5rk1/2B1bpp1/2p4p/3pPR2/1p1P3P/2P2RP1/2r5/6K1 ...</td>\n",
       "      <td>c3b4</td>\n",
       "    </tr>\n",
       "    <tr>\n",
       "      <th>2</th>\n",
       "      <td>1r3rk1/5pb1/p1npb3/1p1Np1p1/4B1P1/2P1N3/PP1K1P...</td>\n",
       "      <td>f8d8</td>\n",
       "    </tr>\n",
       "    <tr>\n",
       "      <th>3</th>\n",
       "      <td>8/8/3kp1R1/3n1p2/5P2/8/6PP/6K1 b - - 0 39</td>\n",
       "      <td>d5f4</td>\n",
       "    </tr>\n",
       "    <tr>\n",
       "      <th>4</th>\n",
       "      <td>6k1/1q3pp1/p3pb1p/1p2n3/8/1PN1P2P/PB2QPP1/3r2K...</td>\n",
       "      <td>e2d1</td>\n",
       "    </tr>\n",
       "    <tr>\n",
       "      <th>...</th>\n",
       "      <td>...</td>\n",
       "      <td>...</td>\n",
       "    </tr>\n",
       "    <tr>\n",
       "      <th>49995</th>\n",
       "      <td>4r1k1/1q1n2pp/1p1P2b1/p1r2p2/P1NRp3/1P2QP2/4B1...</td>\n",
       "      <td>f3e4</td>\n",
       "    </tr>\n",
       "    <tr>\n",
       "      <th>49996</th>\n",
       "      <td>rn4k1/p3Q2p/3P2p1/3P1b1n/1pq5/5R2/4NPP1/5RK1 b...</td>\n",
       "      <td>b8d7</td>\n",
       "    </tr>\n",
       "    <tr>\n",
       "      <th>49997</th>\n",
       "      <td>3rr1k1/1p4bp/1qppb1p1/2n1np2/p1P1PP2/N1B3PP/PP...</td>\n",
       "      <td>e5f7</td>\n",
       "    </tr>\n",
       "    <tr>\n",
       "      <th>49998</th>\n",
       "      <td>4N3/kn1rQ3/ppq5/8/3p3P/P7/1PP2P2/1K2R3 w - - 6 46</td>\n",
       "      <td>e7e4</td>\n",
       "    </tr>\n",
       "    <tr>\n",
       "      <th>49999</th>\n",
       "      <td>8/2R1Q1pk/p5p1/4PpK1/1p6/6P1/P4P1P/q5r1 b - - ...</td>\n",
       "      <td>a1c1</td>\n",
       "    </tr>\n",
       "  </tbody>\n",
       "</table>\n",
       "<p>50000 rows × 2 columns</p>\n",
       "</div>"
      ],
      "text/plain": [
       "                                                       0     1\n",
       "0      3b1r1k/RQnq4/2p1n3/NpPp1p2/1P1PpPp1/2B1P1Pp/4B...  f8f7\n",
       "1      5rk1/2B1bpp1/2p4p/3pPR2/1p1P3P/2P2RP1/2r5/6K1 ...  c3b4\n",
       "2      1r3rk1/5pb1/p1npb3/1p1Np1p1/4B1P1/2P1N3/PP1K1P...  f8d8\n",
       "3              8/8/3kp1R1/3n1p2/5P2/8/6PP/6K1 b - - 0 39  d5f4\n",
       "4      6k1/1q3pp1/p3pb1p/1p2n3/8/1PN1P2P/PB2QPP1/3r2K...  e2d1\n",
       "...                                                  ...   ...\n",
       "49995  4r1k1/1q1n2pp/1p1P2b1/p1r2p2/P1NRp3/1P2QP2/4B1...  f3e4\n",
       "49996  rn4k1/p3Q2p/3P2p1/3P1b1n/1pq5/5R2/4NPP1/5RK1 b...  b8d7\n",
       "49997  3rr1k1/1p4bp/1qppb1p1/2n1np2/p1P1PP2/N1B3PP/PP...  e5f7\n",
       "49998  4N3/kn1rQ3/ppq5/8/3p3P/P7/1PP2P2/1K2R3 w - - 6 46  e7e4\n",
       "49999  8/2R1Q1pk/p5p1/4PpK1/1p6/6P1/P4P1P/q5r1 b - - ...  a1c1\n",
       "\n",
       "[50000 rows x 2 columns]"
      ]
     },
     "execution_count": 196,
     "metadata": {},
     "output_type": "execute_result"
    }
   ],
   "source": [
    "posiciones"
   ]
  },
  {
   "cell_type": "code",
   "execution_count": 197,
   "id": "5af692d4",
   "metadata": {},
   "outputs": [],
   "source": [
    "convertir(posiciones)"
   ]
  },
  {
   "cell_type": "code",
   "execution_count": null,
   "id": "5ba2426a",
   "metadata": {},
   "outputs": [],
   "source": []
  },
  {
   "cell_type": "code",
   "execution_count": null,
   "id": "ca0a1d34",
   "metadata": {},
   "outputs": [],
   "source": []
  }
 ],
 "metadata": {
  "kernelspec": {
   "display_name": "Python 3 (ipykernel)",
   "language": "python",
   "name": "python3"
  },
  "language_info": {
   "codemirror_mode": {
    "name": "ipython",
    "version": 3
   },
   "file_extension": ".py",
   "mimetype": "text/x-python",
   "name": "python",
   "nbconvert_exporter": "python",
   "pygments_lexer": "ipython3",
   "version": "3.9.12"
  }
 },
 "nbformat": 4,
 "nbformat_minor": 5
}
