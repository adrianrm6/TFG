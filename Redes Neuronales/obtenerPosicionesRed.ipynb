{
 "cells": [
  {
   "cell_type": "code",
   "execution_count": null,
   "id": "b640ba6e",
   "metadata": {},
   "outputs": [],
   "source": [
    "import numpy as np\n",
    "import scipy as sc\n",
    "import matplotlib.pyplot as plt\n",
    "import pandas as pd\n",
    "\n",
    "from collections import Counter"
   ]
  },
  {
   "cell_type": "code",
   "execution_count": null,
   "id": "5e620fdc",
   "metadata": {},
   "outputs": [],
   "source": [
    "###################################################################################################\n",
    "############################# FUNCIÓN PARA LEER EL CONJUNTO DE DATOS ##############################\n",
    "###################################################################################################\n",
    "def leer_datos(csv):\n",
    "    \"\"\"\n",
    "    Dado un csv separado por ';' leemos los datos.\n",
    "    \"\"\"\n",
    "    dataset = pd.read_csv(csv, sep=';')\n",
    "    \n",
    "    return dataset\n",
    "###################################################################################################\n",
    "############################ FUNCIÓN PARA OBTENER EL CONJUNTO DE DATOS ############################\n",
    "###################################################################################################\n",
    "def convertir(dataframe):\n",
    "    \"\"\"\n",
    "    Dado un dataframe obtenemos el txt pertinente separado por ';'.\n",
    "    \"\"\"\n",
    "    dataframe.to_csv('FEN_DB.txt', sep=';', index=False)\n",
    "\n",
    "###################################################################################################\n",
    "############### FUNCIÓN PARA FILTRAR LAS POSICIONES ENTRE EL MOVIMIENTO 20 Y EL 50 ################\n",
    "###################################################################################################\n",
    "def filtro_movimientos(x):\n",
    "    \"\"\"\n",
    "    Filtramos los movimientos entre el movimiento 20 y el movimiento 50\n",
    "    \"\"\"\n",
    "    posicionesfiltradas = []\n",
    "    \n",
    "    for i in range(len(x)):\n",
    "        if(int(x[i][0].split()[len(x[i][0].split())-1]) > 20):\n",
    "            if(int(x[i][0].split()[len(x[i][0].split())-1]) < 50):\n",
    "                if (x[i][4] < 70):\n",
    "                    posicionesfiltradas.append(x[i])\n",
    "    return posicionesfiltradas\n",
    "\n",
    "###################################################################################################\n",
    "############### FUNCIÓN PARA OBTENER 100000 POSICIONES DE LAS OBTENIDAS PREVIAMENTE ###############\n",
    "###################################################################################################\n",
    "def posiciones_definitivas(posicionesfiltradas):\n",
    "    \"\"\"\n",
    "    Obtenemos del total de posiciones filtradas cien mil para entrenar posteriormente la red neuronal\n",
    "    \"\"\"\n",
    "\n",
    "    # Obtenemos el dataframe\n",
    "    posicionesdefinitivas = pd.DataFrame(posicionesfiltradas)\n",
    "    \n",
    "    # Eliminamos las columnas que no nos interesan\n",
    "    posicionesdefinitivas = posicionesdefinitivas.drop(posicionesdefinitivas.columns[[2, 3, 4]], axis='columns')\n",
    "    \n",
    "    # Barajamos\n",
    "    np.random.seed(3)\n",
    "    posicionesdefinitivas = posicionesdefinitivas.sample(frac=1).reset_index(drop=True)\n",
    "    \n",
    "    # Por último, obtenemos cien mil filas\n",
    "\n",
    "    return posicionesdefinitivas.head(50000)"
   ]
  },
  {
   "cell_type": "code",
   "execution_count": null,
   "id": "483c92a8",
   "metadata": {},
   "outputs": [],
   "source": [
    "datasetTableros = leer_datos('PosicionesPartidas.csv')"
   ]
  },
  {
   "cell_type": "code",
   "execution_count": null,
   "id": "c5d3e8cd",
   "metadata": {},
   "outputs": [],
   "source": [
    "x = datasetTableros.iloc[:, :].values"
   ]
  },
  {
   "cell_type": "code",
   "execution_count": null,
   "id": "61efee02",
   "metadata": {},
   "outputs": [],
   "source": [
    "posicionesfiltradas = filtro_movimientos(x)"
   ]
  },
  {
   "cell_type": "code",
   "execution_count": null,
   "id": "800abd34",
   "metadata": {},
   "outputs": [],
   "source": [
    "len(posicionesfiltradas)"
   ]
  },
  {
   "cell_type": "code",
   "execution_count": null,
   "id": "4c9ba6a3",
   "metadata": {},
   "outputs": [],
   "source": [
    "posiciones = posiciones_definitivas(posicionesfiltradas)"
   ]
  },
  {
   "cell_type": "code",
   "execution_count": null,
   "id": "5af692d4",
   "metadata": {},
   "outputs": [],
   "source": [
    "convertir(posiciones)"
   ]
  },
  {
   "cell_type": "code",
   "execution_count": null,
   "id": "5ba2426a",
   "metadata": {},
   "outputs": [],
   "source": []
  },
  {
   "cell_type": "code",
   "execution_count": null,
   "id": "ca0a1d34",
   "metadata": {},
   "outputs": [],
   "source": []
  }
 ],
 "metadata": {
  "kernelspec": {
   "display_name": "Python 3 (ipykernel)",
   "language": "python",
   "name": "python3"
  },
  "language_info": {
   "codemirror_mode": {
    "name": "ipython",
    "version": 3
   },
   "file_extension": ".py",
   "mimetype": "text/x-python",
   "name": "python",
   "nbconvert_exporter": "python",
   "pygments_lexer": "ipython3",
   "version": "3.9.12"
  }
 },
 "nbformat": 4,
 "nbformat_minor": 5
}
